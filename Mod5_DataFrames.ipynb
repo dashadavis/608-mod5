{
 "cells": [
  {
   "cell_type": "markdown",
   "id": "d9a50300-3264-4e81-a69c-f21099356ef9",
   "metadata": {},
   "source": [
    "# Dasha Davis, 7.14.2 DataFrames, pg. 267"
   ]
  },
  {
   "cell_type": "code",
   "execution_count": 1,
   "id": "f7b468c0-31c5-430c-9ece-a317a57d69c5",
   "metadata": {},
   "outputs": [],
   "source": [
    "#Creating a DataFrame from a Dictionary"
   ]
  },
  {
   "cell_type": "code",
   "execution_count": 2,
   "id": "e7d7edde-a952-4b27-91cd-1cc28e8c97cb",
   "metadata": {},
   "outputs": [
    {
     "ename": "SyntaxError",
     "evalue": "invalid syntax (1644136058.py, line 1)",
     "output_type": "error",
     "traceback": [
      "\u001b[1;36m  Input \u001b[1;32mIn [2]\u001b[1;36m\u001b[0m\n\u001b[1;33m    importa pandas as pd\u001b[0m\n\u001b[1;37m            ^\u001b[0m\n\u001b[1;31mSyntaxError\u001b[0m\u001b[1;31m:\u001b[0m invalid syntax\n"
     ]
    }
   ],
   "source": [
    "importa pandas as pd"
   ]
  },
  {
   "cell_type": "code",
   "execution_count": 3,
   "id": "6e1e3472-dedd-4fd6-8ac7-71bb8c78f047",
   "metadata": {},
   "outputs": [],
   "source": [
    "#let's try again, but without the typo\n",
    "\n",
    "import pandas as pd"
   ]
  },
  {
   "cell_type": "code",
   "execution_count": 4,
   "id": "16537a87-1adb-4f4d-be8e-4e449015dd39",
   "metadata": {},
   "outputs": [],
   "source": [
    "grades_dict = {'Wally': [87, 96, 70], 'Eva': [100, 87, 90], \n",
    "               'Sam': [94, 77, 90], 'Katie': [100, 81, 82], \n",
    "               'Bob': [83, 65, 85]}"
   ]
  },
  {
   "cell_type": "code",
   "execution_count": 5,
   "id": "4b1bc598-6994-4910-a927-825b079a24d2",
   "metadata": {},
   "outputs": [
    {
     "data": {
      "text/html": [
       "<div>\n",
       "<style scoped>\n",
       "    .dataframe tbody tr th:only-of-type {\n",
       "        vertical-align: middle;\n",
       "    }\n",
       "\n",
       "    .dataframe tbody tr th {\n",
       "        vertical-align: top;\n",
       "    }\n",
       "\n",
       "    .dataframe thead th {\n",
       "        text-align: right;\n",
       "    }\n",
       "</style>\n",
       "<table border=\"1\" class=\"dataframe\">\n",
       "  <thead>\n",
       "    <tr style=\"text-align: right;\">\n",
       "      <th></th>\n",
       "      <th>Wally</th>\n",
       "      <th>Eva</th>\n",
       "      <th>Sam</th>\n",
       "      <th>Katie</th>\n",
       "      <th>Bob</th>\n",
       "    </tr>\n",
       "  </thead>\n",
       "  <tbody>\n",
       "    <tr>\n",
       "      <th>0</th>\n",
       "      <td>87</td>\n",
       "      <td>100</td>\n",
       "      <td>94</td>\n",
       "      <td>100</td>\n",
       "      <td>83</td>\n",
       "    </tr>\n",
       "    <tr>\n",
       "      <th>1</th>\n",
       "      <td>96</td>\n",
       "      <td>87</td>\n",
       "      <td>77</td>\n",
       "      <td>81</td>\n",
       "      <td>65</td>\n",
       "    </tr>\n",
       "    <tr>\n",
       "      <th>2</th>\n",
       "      <td>70</td>\n",
       "      <td>90</td>\n",
       "      <td>90</td>\n",
       "      <td>82</td>\n",
       "      <td>85</td>\n",
       "    </tr>\n",
       "  </tbody>\n",
       "</table>\n",
       "</div>"
      ],
      "text/plain": [
       "   Wally  Eva  Sam  Katie  Bob\n",
       "0     87  100   94    100   83\n",
       "1     96   87   77     81   65\n",
       "2     70   90   90     82   85"
      ]
     },
     "execution_count": 5,
     "metadata": {},
     "output_type": "execute_result"
    }
   ],
   "source": [
    "grades = pd.DataFrame(grades_dict)\n",
    "\n",
    "grades"
   ]
  },
  {
   "cell_type": "code",
   "execution_count": 6,
   "id": "749c8006-1711-4ae0-aaaa-6e5ec6177021",
   "metadata": {},
   "outputs": [],
   "source": [
    "# oooohhhh. That's beautiful!!!! \n",
    "# indices are left aligned in the index column, remaining columns values are right aligned.\n",
    "# Dictionaries keys become the column names and the values associated with each key become the element \n",
    "# values in the corresponding column"
   ]
  },
  {
   "cell_type": "code",
   "execution_count": null,
   "id": "a3877324-3e2a-43cc-af59-36a55cc31f8c",
   "metadata": {},
   "outputs": [],
   "source": []
  },
  {
   "cell_type": "markdown",
   "id": "fcd79a1e-79b5-475a-bee0-0448bdbf2701",
   "metadata": {},
   "source": [
    "## Creating custome indices, instead of the default (0, 1, 2...) using the 'index' keyword"
   ]
  },
  {
   "cell_type": "code",
   "execution_count": 7,
   "id": "cf9cb4bf-ed2b-4d13-a123-61724774bde7",
   "metadata": {},
   "outputs": [],
   "source": [
    "# pg. 267"
   ]
  },
  {
   "cell_type": "code",
   "execution_count": 8,
   "id": "4964254d-44e3-4e2c-befc-00178bc7ce62",
   "metadata": {},
   "outputs": [],
   "source": [
    "#using the 'index attribute'"
   ]
  },
  {
   "cell_type": "code",
   "execution_count": 9,
   "id": "e31505f8-d460-4045-a833-f4b88f34f2ed",
   "metadata": {},
   "outputs": [
    {
     "data": {
      "text/html": [
       "<div>\n",
       "<style scoped>\n",
       "    .dataframe tbody tr th:only-of-type {\n",
       "        vertical-align: middle;\n",
       "    }\n",
       "\n",
       "    .dataframe tbody tr th {\n",
       "        vertical-align: top;\n",
       "    }\n",
       "\n",
       "    .dataframe thead th {\n",
       "        text-align: right;\n",
       "    }\n",
       "</style>\n",
       "<table border=\"1\" class=\"dataframe\">\n",
       "  <thead>\n",
       "    <tr style=\"text-align: right;\">\n",
       "      <th></th>\n",
       "      <th>Wally</th>\n",
       "      <th>Eva</th>\n",
       "      <th>Sam</th>\n",
       "      <th>Katie</th>\n",
       "      <th>Bob</th>\n",
       "    </tr>\n",
       "  </thead>\n",
       "  <tbody>\n",
       "    <tr>\n",
       "      <th>Test1</th>\n",
       "      <td>87</td>\n",
       "      <td>100</td>\n",
       "      <td>94</td>\n",
       "      <td>100</td>\n",
       "      <td>83</td>\n",
       "    </tr>\n",
       "    <tr>\n",
       "      <th>Test2</th>\n",
       "      <td>96</td>\n",
       "      <td>87</td>\n",
       "      <td>77</td>\n",
       "      <td>81</td>\n",
       "      <td>65</td>\n",
       "    </tr>\n",
       "    <tr>\n",
       "      <th>Test3</th>\n",
       "      <td>70</td>\n",
       "      <td>90</td>\n",
       "      <td>90</td>\n",
       "      <td>82</td>\n",
       "      <td>85</td>\n",
       "    </tr>\n",
       "  </tbody>\n",
       "</table>\n",
       "</div>"
      ],
      "text/plain": [
       "       Wally  Eva  Sam  Katie  Bob\n",
       "Test1     87  100   94    100   83\n",
       "Test2     96   87   77     81   65\n",
       "Test3     70   90   90     82   85"
      ]
     },
     "execution_count": 9,
     "metadata": {},
     "output_type": "execute_result"
    }
   ],
   "source": [
    "grades.index = ['Test1', 'Test2', 'Test3']\n",
    "\n",
    "grades"
   ]
  },
  {
   "cell_type": "code",
   "execution_count": 10,
   "id": "e7f1e4c1-ff93-48ca-a327-5dde27852340",
   "metadata": {},
   "outputs": [],
   "source": [
    "#this could have been done when creating the dataframe by \n",
    "#pd.DataFrame(grades_dict, index=['Test1', 'Test2', 'Test3'])"
   ]
  },
  {
   "cell_type": "markdown",
   "id": "90200b38-603e-4e33-a6b5-3df16702e8cf",
   "metadata": {},
   "source": [
    "## Dasha Davis You might get a ValueError if there are NOT the same number of elements as there are rows"
   ]
  },
  {
   "cell_type": "code",
   "execution_count": 11,
   "id": "2a60766f-fcd1-4ec9-828a-4d99b75f8ffb",
   "metadata": {},
   "outputs": [],
   "source": [
    "# Series also provides an index attribute for changing an existing Sereis' indices"
   ]
  },
  {
   "cell_type": "code",
   "execution_count": null,
   "id": "8f94a715-1488-454b-86fe-b66e1114f1ff",
   "metadata": {},
   "outputs": [],
   "source": []
  },
  {
   "cell_type": "code",
   "execution_count": 12,
   "id": "53ec671d-bfb0-41a5-be4c-b6dac2b3ac26",
   "metadata": {},
   "outputs": [],
   "source": [
    "#Accessing a DataFrame's Columns"
   ]
  },
  {
   "cell_type": "code",
   "execution_count": 13,
   "id": "f4b4b9e5-75a6-47b2-aaf7-82461a955579",
   "metadata": {},
   "outputs": [
    {
     "data": {
      "text/plain": [
       "Test1    100\n",
       "Test2     87\n",
       "Test3     90\n",
       "Name: Eva, dtype: int64"
      ]
     },
     "execution_count": 13,
     "metadata": {},
     "output_type": "execute_result"
    }
   ],
   "source": [
    "grades['Eva']"
   ]
  },
  {
   "cell_type": "code",
   "execution_count": null,
   "id": "dc7fe44f-8fc6-491d-812c-ee25a532db39",
   "metadata": {},
   "outputs": [],
   "source": []
  },
  {
   "cell_type": "code",
   "execution_count": 14,
   "id": "9acb1519-750f-4e9b-a150-c0433318ee2a",
   "metadata": {},
   "outputs": [
    {
     "data": {
      "text/plain": [
       "Test1    94\n",
       "Test2    77\n",
       "Test3    90\n",
       "Name: Sam, dtype: int64"
      ]
     },
     "execution_count": 14,
     "metadata": {},
     "output_type": "execute_result"
    }
   ],
   "source": [
    "grades.Sam  #if column-name strings are valid Python identifiers, you can use them as attributes\n",
    "#also if there are no spaces in the key - can use the easier '.'(dot) attribute approach"
   ]
  },
  {
   "cell_type": "code",
   "execution_count": null,
   "id": "23a33b00-ac69-4564-b5e6-039ed8f6c551",
   "metadata": {},
   "outputs": [],
   "source": []
  },
  {
   "cell_type": "markdown",
   "id": "ddb69a71-0766-49a5-a44d-f328b2de07bb",
   "metadata": {},
   "source": [
    "## Selecting Rows via the loc (locate) and iloc Attributes, p. 268"
   ]
  },
  {
   "cell_type": "code",
   "execution_count": 17,
   "id": "f4ac2911-8d4a-448d-bc99-7d9170c023ff",
   "metadata": {},
   "outputs": [],
   "source": [
    "#loc attribute to find Test1 of all the students"
   ]
  },
  {
   "cell_type": "code",
   "execution_count": 16,
   "id": "5a4dc31a-4604-4650-a31e-92f1d6d998d4",
   "metadata": {},
   "outputs": [
    {
     "data": {
      "text/plain": [
       "Wally     87\n",
       "Eva      100\n",
       "Sam       94\n",
       "Katie    100\n",
       "Bob       83\n",
       "Name: Test1, dtype: int64"
      ]
     },
     "execution_count": 16,
     "metadata": {},
     "output_type": "execute_result"
    }
   ],
   "source": [
    "grades.loc['Test1']"
   ]
  },
  {
   "cell_type": "code",
   "execution_count": null,
   "id": "59f46754-57cd-43f4-94ff-64c2b7aa25c9",
   "metadata": {},
   "outputs": [],
   "source": []
  },
  {
   "cell_type": "code",
   "execution_count": 18,
   "id": "d37357d2-9ff4-47fc-82c8-6cbb491cd200",
   "metadata": {},
   "outputs": [],
   "source": [
    "#Dasha Davis can also access rows by using the integer based indices - iloc (yes, I can!)"
   ]
  },
  {
   "cell_type": "code",
   "execution_count": 20,
   "id": "2f074872-579e-4921-89bd-52222d7b9367",
   "metadata": {},
   "outputs": [
    {
     "data": {
      "text/plain": [
       "Wally    96\n",
       "Eva      87\n",
       "Sam      77\n",
       "Katie    81\n",
       "Bob      65\n",
       "Name: Test2, dtype: int64"
      ]
     },
     "execution_count": 20,
     "metadata": {},
     "output_type": "execute_result"
    }
   ],
   "source": [
    "grades.iloc[1] #this is 2nd row"
   ]
  },
  {
   "cell_type": "code",
   "execution_count": 21,
   "id": "43f77043-b8ba-4a57-a18a-1af67c2b39ea",
   "metadata": {},
   "outputs": [],
   "source": [
    "#I prefer the loc because it seems more straight-forward and easier as long as there are custom indices"
   ]
  },
  {
   "cell_type": "code",
   "execution_count": null,
   "id": "b8e3a2ab-b35a-495e-bfed-aa67967d9cf4",
   "metadata": {},
   "outputs": [],
   "source": []
  },
  {
   "cell_type": "code",
   "execution_count": 22,
   "id": "5cc4fd95-e546-415c-a5e3-0fbc2ef135a0",
   "metadata": {},
   "outputs": [],
   "source": [
    "#Accessing specific cell by row and column, p. 270"
   ]
  },
  {
   "cell_type": "code",
   "execution_count": 23,
   "id": "7b763045-7c42-419b-98db-f91d291d44b3",
   "metadata": {},
   "outputs": [],
   "source": [
    "#use dataframes at and iat attributes to get a single value from a DataFrame. \n",
    "#the row and column indices must be separated by a comma"
   ]
  },
  {
   "cell_type": "code",
   "execution_count": 24,
   "id": "afcf00a5-ddd5-4f6c-987a-7706c97cd4d4",
   "metadata": {},
   "outputs": [
    {
     "data": {
      "text/plain": [
       "87"
      ]
     },
     "execution_count": 24,
     "metadata": {},
     "output_type": "execute_result"
    }
   ],
   "source": [
    "grades.at['Test2', 'Eva']"
   ]
  },
  {
   "cell_type": "code",
   "execution_count": 25,
   "id": "2c0d664c-00c4-495c-892d-7cea8d155cff",
   "metadata": {},
   "outputs": [],
   "source": [
    "#Dasha Davis tries to reverse the order to see what happens?"
   ]
  },
  {
   "cell_type": "code",
   "execution_count": 26,
   "id": "5b9bf923-3f78-4ba3-8270-647ec5e9c44a",
   "metadata": {},
   "outputs": [
    {
     "ename": "KeyError",
     "evalue": "'Test2'",
     "output_type": "error",
     "traceback": [
      "\u001b[1;31m---------------------------------------------------------------------------\u001b[0m",
      "\u001b[1;31mKeyError\u001b[0m                                  Traceback (most recent call last)",
      "File \u001b[1;32m~\\miniconda3\\lib\\site-packages\\pandas\\core\\indexes\\base.py:3621\u001b[0m, in \u001b[0;36mIndex.get_loc\u001b[1;34m(self, key, method, tolerance)\u001b[0m\n\u001b[0;32m   3620\u001b[0m \u001b[38;5;28;01mtry\u001b[39;00m:\n\u001b[1;32m-> 3621\u001b[0m     \u001b[38;5;28;01mreturn\u001b[39;00m \u001b[38;5;28;43mself\u001b[39;49m\u001b[38;5;241;43m.\u001b[39;49m\u001b[43m_engine\u001b[49m\u001b[38;5;241;43m.\u001b[39;49m\u001b[43mget_loc\u001b[49m\u001b[43m(\u001b[49m\u001b[43mcasted_key\u001b[49m\u001b[43m)\u001b[49m\n\u001b[0;32m   3622\u001b[0m \u001b[38;5;28;01mexcept\u001b[39;00m \u001b[38;5;167;01mKeyError\u001b[39;00m \u001b[38;5;28;01mas\u001b[39;00m err:\n",
      "File \u001b[1;32m~\\miniconda3\\lib\\site-packages\\pandas\\_libs\\index.pyx:136\u001b[0m, in \u001b[0;36mpandas._libs.index.IndexEngine.get_loc\u001b[1;34m()\u001b[0m\n",
      "File \u001b[1;32m~\\miniconda3\\lib\\site-packages\\pandas\\_libs\\index.pyx:163\u001b[0m, in \u001b[0;36mpandas._libs.index.IndexEngine.get_loc\u001b[1;34m()\u001b[0m\n",
      "File \u001b[1;32mpandas\\_libs\\hashtable_class_helper.pxi:5198\u001b[0m, in \u001b[0;36mpandas._libs.hashtable.PyObjectHashTable.get_item\u001b[1;34m()\u001b[0m\n",
      "File \u001b[1;32mpandas\\_libs\\hashtable_class_helper.pxi:5206\u001b[0m, in \u001b[0;36mpandas._libs.hashtable.PyObjectHashTable.get_item\u001b[1;34m()\u001b[0m\n",
      "\u001b[1;31mKeyError\u001b[0m: 'Test2'",
      "\nThe above exception was the direct cause of the following exception:\n",
      "\u001b[1;31mKeyError\u001b[0m                                  Traceback (most recent call last)",
      "Input \u001b[1;32mIn [26]\u001b[0m, in \u001b[0;36m<cell line: 1>\u001b[1;34m()\u001b[0m\n\u001b[1;32m----> 1\u001b[0m \u001b[43mgrades\u001b[49m\u001b[38;5;241;43m.\u001b[39;49m\u001b[43mat\u001b[49m\u001b[43m[\u001b[49m\u001b[38;5;124;43m'\u001b[39;49m\u001b[38;5;124;43mEva\u001b[39;49m\u001b[38;5;124;43m'\u001b[39;49m\u001b[43m,\u001b[49m\u001b[43m \u001b[49m\u001b[38;5;124;43m'\u001b[39;49m\u001b[38;5;124;43mTest2\u001b[39;49m\u001b[38;5;124;43m'\u001b[39;49m\u001b[43m]\u001b[49m\n",
      "File \u001b[1;32m~\\miniconda3\\lib\\site-packages\\pandas\\core\\indexing.py:2270\u001b[0m, in \u001b[0;36m_AtIndexer.__getitem__\u001b[1;34m(self, key)\u001b[0m\n\u001b[0;32m   2267\u001b[0m         \u001b[38;5;28;01mraise\u001b[39;00m \u001b[38;5;167;01mValueError\u001b[39;00m(\u001b[38;5;124m\"\u001b[39m\u001b[38;5;124mInvalid call for scalar access (getting)!\u001b[39m\u001b[38;5;124m\"\u001b[39m)\n\u001b[0;32m   2268\u001b[0m     \u001b[38;5;28;01mreturn\u001b[39;00m \u001b[38;5;28mself\u001b[39m\u001b[38;5;241m.\u001b[39mobj\u001b[38;5;241m.\u001b[39mloc[key]\n\u001b[1;32m-> 2270\u001b[0m \u001b[38;5;28;01mreturn\u001b[39;00m \u001b[38;5;28;43msuper\u001b[39;49m\u001b[43m(\u001b[49m\u001b[43m)\u001b[49m\u001b[38;5;241;43m.\u001b[39;49m\u001b[38;5;21;43m__getitem__\u001b[39;49m\u001b[43m(\u001b[49m\u001b[43mkey\u001b[49m\u001b[43m)\u001b[49m\n",
      "File \u001b[1;32m~\\miniconda3\\lib\\site-packages\\pandas\\core\\indexing.py:2221\u001b[0m, in \u001b[0;36m_ScalarAccessIndexer.__getitem__\u001b[1;34m(self, key)\u001b[0m\n\u001b[0;32m   2218\u001b[0m         \u001b[38;5;28;01mraise\u001b[39;00m \u001b[38;5;167;01mValueError\u001b[39;00m(\u001b[38;5;124m\"\u001b[39m\u001b[38;5;124mInvalid call for scalar access (getting)!\u001b[39m\u001b[38;5;124m\"\u001b[39m)\n\u001b[0;32m   2220\u001b[0m key \u001b[38;5;241m=\u001b[39m \u001b[38;5;28mself\u001b[39m\u001b[38;5;241m.\u001b[39m_convert_key(key)\n\u001b[1;32m-> 2221\u001b[0m \u001b[38;5;28;01mreturn\u001b[39;00m \u001b[38;5;28;43mself\u001b[39;49m\u001b[38;5;241;43m.\u001b[39;49m\u001b[43mobj\u001b[49m\u001b[38;5;241;43m.\u001b[39;49m\u001b[43m_get_value\u001b[49m\u001b[43m(\u001b[49m\u001b[38;5;241;43m*\u001b[39;49m\u001b[43mkey\u001b[49m\u001b[43m,\u001b[49m\u001b[43m \u001b[49m\u001b[43mtakeable\u001b[49m\u001b[38;5;241;43m=\u001b[39;49m\u001b[38;5;28;43mself\u001b[39;49m\u001b[38;5;241;43m.\u001b[39;49m\u001b[43m_takeable\u001b[49m\u001b[43m)\u001b[49m\n",
      "File \u001b[1;32m~\\miniconda3\\lib\\site-packages\\pandas\\core\\frame.py:3615\u001b[0m, in \u001b[0;36mDataFrame._get_value\u001b[1;34m(self, index, col, takeable)\u001b[0m\n\u001b[0;32m   3612\u001b[0m     series \u001b[38;5;241m=\u001b[39m \u001b[38;5;28mself\u001b[39m\u001b[38;5;241m.\u001b[39m_ixs(col, axis\u001b[38;5;241m=\u001b[39m\u001b[38;5;241m1\u001b[39m)\n\u001b[0;32m   3613\u001b[0m     \u001b[38;5;28;01mreturn\u001b[39;00m series\u001b[38;5;241m.\u001b[39m_values[index]\n\u001b[1;32m-> 3615\u001b[0m series \u001b[38;5;241m=\u001b[39m \u001b[38;5;28;43mself\u001b[39;49m\u001b[38;5;241;43m.\u001b[39;49m\u001b[43m_get_item_cache\u001b[49m\u001b[43m(\u001b[49m\u001b[43mcol\u001b[49m\u001b[43m)\u001b[49m\n\u001b[0;32m   3616\u001b[0m engine \u001b[38;5;241m=\u001b[39m \u001b[38;5;28mself\u001b[39m\u001b[38;5;241m.\u001b[39mindex\u001b[38;5;241m.\u001b[39m_engine\n\u001b[0;32m   3618\u001b[0m \u001b[38;5;28;01mif\u001b[39;00m \u001b[38;5;129;01mnot\u001b[39;00m \u001b[38;5;28misinstance\u001b[39m(\u001b[38;5;28mself\u001b[39m\u001b[38;5;241m.\u001b[39mindex, MultiIndex):\n\u001b[0;32m   3619\u001b[0m     \u001b[38;5;66;03m# CategoricalIndex: Trying to use the engine fastpath may give incorrect\u001b[39;00m\n\u001b[0;32m   3620\u001b[0m     \u001b[38;5;66;03m#  results if our categories are integers that dont match our codes\u001b[39;00m\n\u001b[0;32m   3621\u001b[0m     \u001b[38;5;66;03m# IntervalIndex: IntervalTree has no get_loc\u001b[39;00m\n",
      "File \u001b[1;32m~\\miniconda3\\lib\\site-packages\\pandas\\core\\frame.py:3931\u001b[0m, in \u001b[0;36mDataFrame._get_item_cache\u001b[1;34m(self, item)\u001b[0m\n\u001b[0;32m   3926\u001b[0m res \u001b[38;5;241m=\u001b[39m cache\u001b[38;5;241m.\u001b[39mget(item)\n\u001b[0;32m   3927\u001b[0m \u001b[38;5;28;01mif\u001b[39;00m res \u001b[38;5;129;01mis\u001b[39;00m \u001b[38;5;28;01mNone\u001b[39;00m:\n\u001b[0;32m   3928\u001b[0m     \u001b[38;5;66;03m# All places that call _get_item_cache have unique columns,\u001b[39;00m\n\u001b[0;32m   3929\u001b[0m     \u001b[38;5;66;03m#  pending resolution of GH#33047\u001b[39;00m\n\u001b[1;32m-> 3931\u001b[0m     loc \u001b[38;5;241m=\u001b[39m \u001b[38;5;28;43mself\u001b[39;49m\u001b[38;5;241;43m.\u001b[39;49m\u001b[43mcolumns\u001b[49m\u001b[38;5;241;43m.\u001b[39;49m\u001b[43mget_loc\u001b[49m\u001b[43m(\u001b[49m\u001b[43mitem\u001b[49m\u001b[43m)\u001b[49m\n\u001b[0;32m   3932\u001b[0m     res \u001b[38;5;241m=\u001b[39m \u001b[38;5;28mself\u001b[39m\u001b[38;5;241m.\u001b[39m_ixs(loc, axis\u001b[38;5;241m=\u001b[39m\u001b[38;5;241m1\u001b[39m)\n\u001b[0;32m   3934\u001b[0m     cache[item] \u001b[38;5;241m=\u001b[39m res\n",
      "File \u001b[1;32m~\\miniconda3\\lib\\site-packages\\pandas\\core\\indexes\\base.py:3623\u001b[0m, in \u001b[0;36mIndex.get_loc\u001b[1;34m(self, key, method, tolerance)\u001b[0m\n\u001b[0;32m   3621\u001b[0m     \u001b[38;5;28;01mreturn\u001b[39;00m \u001b[38;5;28mself\u001b[39m\u001b[38;5;241m.\u001b[39m_engine\u001b[38;5;241m.\u001b[39mget_loc(casted_key)\n\u001b[0;32m   3622\u001b[0m \u001b[38;5;28;01mexcept\u001b[39;00m \u001b[38;5;167;01mKeyError\u001b[39;00m \u001b[38;5;28;01mas\u001b[39;00m err:\n\u001b[1;32m-> 3623\u001b[0m     \u001b[38;5;28;01mraise\u001b[39;00m \u001b[38;5;167;01mKeyError\u001b[39;00m(key) \u001b[38;5;28;01mfrom\u001b[39;00m \u001b[38;5;21;01merr\u001b[39;00m\n\u001b[0;32m   3624\u001b[0m \u001b[38;5;28;01mexcept\u001b[39;00m \u001b[38;5;167;01mTypeError\u001b[39;00m:\n\u001b[0;32m   3625\u001b[0m     \u001b[38;5;66;03m# If we have a listlike key, _check_indexing_error will raise\u001b[39;00m\n\u001b[0;32m   3626\u001b[0m     \u001b[38;5;66;03m#  InvalidIndexError. Otherwise we fall through and re-raise\u001b[39;00m\n\u001b[0;32m   3627\u001b[0m     \u001b[38;5;66;03m#  the TypeError.\u001b[39;00m\n\u001b[0;32m   3628\u001b[0m     \u001b[38;5;28mself\u001b[39m\u001b[38;5;241m.\u001b[39m_check_indexing_error(key)\n",
      "\u001b[1;31mKeyError\u001b[0m: 'Test2'"
     ]
    }
   ],
   "source": [
    "grades.at['Eva', 'Test2']"
   ]
  },
  {
   "cell_type": "code",
   "execution_count": 27,
   "id": "fb3671eb-435d-4249-82ae-23846d439f27",
   "metadata": {},
   "outputs": [],
   "source": [
    "# Python didn't like that! Dasha - remember - ROWS MUST COME FIRST, THEN COLUMNS"
   ]
  },
  {
   "cell_type": "code",
   "execution_count": null,
   "id": "58322ccb-ba85-498e-a089-2337c0d48539",
   "metadata": {},
   "outputs": [],
   "source": []
  },
  {
   "cell_type": "code",
   "execution_count": 28,
   "id": "c7fb0e94-471d-4734-b792-fe8bfacd3264",
   "metadata": {},
   "outputs": [
    {
     "data": {
      "text/plain": [
       "70"
      ]
     },
     "execution_count": 28,
     "metadata": {},
     "output_type": "execute_result"
    }
   ],
   "source": [
    "grades.iat[2,0]"
   ]
  },
  {
   "cell_type": "code",
   "execution_count": 29,
   "id": "1658fa7d-e0eb-4c42-bacc-0f928b074172",
   "metadata": {},
   "outputs": [],
   "source": [
    "#let's try an original one - find Katie's Test2 grade"
   ]
  },
  {
   "cell_type": "code",
   "execution_count": 30,
   "id": "13a83c93-aef9-4692-8a14-d9f202c10e55",
   "metadata": {},
   "outputs": [
    {
     "data": {
      "text/plain": [
       "81"
      ]
     },
     "execution_count": 30,
     "metadata": {},
     "output_type": "execute_result"
    }
   ],
   "source": [
    "grades.iat[1,3]"
   ]
  },
  {
   "cell_type": "code",
   "execution_count": 31,
   "id": "7d9ac85a-6b2e-47d1-801d-05e2367e1ec2",
   "metadata": {},
   "outputs": [],
   "source": [
    "#Awesome. I understand this."
   ]
  },
  {
   "cell_type": "code",
   "execution_count": 32,
   "id": "4eb53f97-9ec2-411f-8331-12e8612b2b51",
   "metadata": {},
   "outputs": [],
   "source": [
    "#when there is not SO MUCH to do, I have time to play around and explore a little :)"
   ]
  },
  {
   "cell_type": "code",
   "execution_count": null,
   "id": "0756aaeb-fbca-4e3e-99e1-67e8496346e7",
   "metadata": {},
   "outputs": [],
   "source": []
  },
  {
   "cell_type": "code",
   "execution_count": 33,
   "id": "90d5edc7-dc92-42de-a65e-c21308c34dae",
   "metadata": {},
   "outputs": [
    {
     "data": {
      "text/html": [
       "<div>\n",
       "<style scoped>\n",
       "    .dataframe tbody tr th:only-of-type {\n",
       "        vertical-align: middle;\n",
       "    }\n",
       "\n",
       "    .dataframe tbody tr th {\n",
       "        vertical-align: top;\n",
       "    }\n",
       "\n",
       "    .dataframe thead th {\n",
       "        text-align: right;\n",
       "    }\n",
       "</style>\n",
       "<table border=\"1\" class=\"dataframe\">\n",
       "  <thead>\n",
       "    <tr style=\"text-align: right;\">\n",
       "      <th></th>\n",
       "      <th>Wally</th>\n",
       "      <th>Eva</th>\n",
       "      <th>Sam</th>\n",
       "      <th>Katie</th>\n",
       "      <th>Bob</th>\n",
       "    </tr>\n",
       "  </thead>\n",
       "  <tbody>\n",
       "    <tr>\n",
       "      <th>count</th>\n",
       "      <td>3.000000</td>\n",
       "      <td>3.000000</td>\n",
       "      <td>3.000000</td>\n",
       "      <td>3.000000</td>\n",
       "      <td>3.000000</td>\n",
       "    </tr>\n",
       "    <tr>\n",
       "      <th>mean</th>\n",
       "      <td>84.333333</td>\n",
       "      <td>92.333333</td>\n",
       "      <td>87.000000</td>\n",
       "      <td>87.666667</td>\n",
       "      <td>77.666667</td>\n",
       "    </tr>\n",
       "    <tr>\n",
       "      <th>std</th>\n",
       "      <td>13.203535</td>\n",
       "      <td>6.806859</td>\n",
       "      <td>8.888194</td>\n",
       "      <td>10.692677</td>\n",
       "      <td>11.015141</td>\n",
       "    </tr>\n",
       "    <tr>\n",
       "      <th>min</th>\n",
       "      <td>70.000000</td>\n",
       "      <td>87.000000</td>\n",
       "      <td>77.000000</td>\n",
       "      <td>81.000000</td>\n",
       "      <td>65.000000</td>\n",
       "    </tr>\n",
       "    <tr>\n",
       "      <th>25%</th>\n",
       "      <td>78.500000</td>\n",
       "      <td>88.500000</td>\n",
       "      <td>83.500000</td>\n",
       "      <td>81.500000</td>\n",
       "      <td>74.000000</td>\n",
       "    </tr>\n",
       "    <tr>\n",
       "      <th>50%</th>\n",
       "      <td>87.000000</td>\n",
       "      <td>90.000000</td>\n",
       "      <td>90.000000</td>\n",
       "      <td>82.000000</td>\n",
       "      <td>83.000000</td>\n",
       "    </tr>\n",
       "    <tr>\n",
       "      <th>75%</th>\n",
       "      <td>91.500000</td>\n",
       "      <td>95.000000</td>\n",
       "      <td>92.000000</td>\n",
       "      <td>91.000000</td>\n",
       "      <td>84.000000</td>\n",
       "    </tr>\n",
       "    <tr>\n",
       "      <th>max</th>\n",
       "      <td>96.000000</td>\n",
       "      <td>100.000000</td>\n",
       "      <td>94.000000</td>\n",
       "      <td>100.000000</td>\n",
       "      <td>85.000000</td>\n",
       "    </tr>\n",
       "  </tbody>\n",
       "</table>\n",
       "</div>"
      ],
      "text/plain": [
       "           Wally         Eva        Sam       Katie        Bob\n",
       "count   3.000000    3.000000   3.000000    3.000000   3.000000\n",
       "mean   84.333333   92.333333  87.000000   87.666667  77.666667\n",
       "std    13.203535    6.806859   8.888194   10.692677  11.015141\n",
       "min    70.000000   87.000000  77.000000   81.000000  65.000000\n",
       "25%    78.500000   88.500000  83.500000   81.500000  74.000000\n",
       "50%    87.000000   90.000000  90.000000   82.000000  83.000000\n",
       "75%    91.500000   95.000000  92.000000   91.000000  84.000000\n",
       "max    96.000000  100.000000  94.000000  100.000000  85.000000"
      ]
     },
     "execution_count": 33,
     "metadata": {},
     "output_type": "execute_result"
    }
   ],
   "source": [
    "#Descriptive Statistics\n",
    "\n",
    "grades.describe()"
   ]
  },
  {
   "cell_type": "code",
   "execution_count": 34,
   "id": "f0e926a8-0dc2-498a-a1df-56e1490bac28",
   "metadata": {},
   "outputs": [],
   "source": [
    "#woah! So cool! OMG. I love this."
   ]
  },
  {
   "cell_type": "code",
   "execution_count": null,
   "id": "49f01a61-13da-42cb-993b-0fa7b89f2c53",
   "metadata": {},
   "outputs": [],
   "source": []
  },
  {
   "cell_type": "code",
   "execution_count": 35,
   "id": "04dcd566-886e-4a3b-b57a-dad247c25c63",
   "metadata": {},
   "outputs": [],
   "source": [
    "#control the precision of the floating-point values, so not to display with 6 points of precision."
   ]
  },
  {
   "cell_type": "code",
   "execution_count": 36,
   "id": "cf7a5696-3093-448b-9520-e88c0bc9c802",
   "metadata": {},
   "outputs": [
    {
     "ename": "OptionError",
     "evalue": "'Pattern matched multiple keys'",
     "output_type": "error",
     "traceback": [
      "\u001b[1;31m---------------------------------------------------------------------------\u001b[0m",
      "\u001b[1;31mOptionError\u001b[0m                               Traceback (most recent call last)",
      "Input \u001b[1;32mIn [36]\u001b[0m, in \u001b[0;36m<cell line: 1>\u001b[1;34m()\u001b[0m\n\u001b[1;32m----> 1\u001b[0m \u001b[43mpd\u001b[49m\u001b[38;5;241;43m.\u001b[39;49m\u001b[43mset_option\u001b[49m\u001b[43m(\u001b[49m\u001b[38;5;124;43m'\u001b[39;49m\u001b[38;5;124;43mprecision\u001b[39;49m\u001b[38;5;124;43m'\u001b[39;49m\u001b[43m,\u001b[49m\u001b[43m \u001b[49m\u001b[38;5;241;43m2\u001b[39;49m\u001b[43m)\u001b[49m\n\u001b[0;32m      3\u001b[0m grades\u001b[38;5;241m.\u001b[39mdescribe()\n",
      "File \u001b[1;32m~\\miniconda3\\lib\\site-packages\\pandas\\_config\\config.py:256\u001b[0m, in \u001b[0;36mCallableDynamicDoc.__call__\u001b[1;34m(self, *args, **kwds)\u001b[0m\n\u001b[0;32m    255\u001b[0m \u001b[38;5;28;01mdef\u001b[39;00m \u001b[38;5;21m__call__\u001b[39m(\u001b[38;5;28mself\u001b[39m, \u001b[38;5;241m*\u001b[39margs, \u001b[38;5;241m*\u001b[39m\u001b[38;5;241m*\u001b[39mkwds):\n\u001b[1;32m--> 256\u001b[0m     \u001b[38;5;28;01mreturn\u001b[39;00m \u001b[38;5;28mself\u001b[39m\u001b[38;5;241m.\u001b[39m\u001b[38;5;18m__func__\u001b[39m(\u001b[38;5;241m*\u001b[39margs, \u001b[38;5;241m*\u001b[39m\u001b[38;5;241m*\u001b[39mkwds)\n",
      "File \u001b[1;32m~\\miniconda3\\lib\\site-packages\\pandas\\_config\\config.py:149\u001b[0m, in \u001b[0;36m_set_option\u001b[1;34m(*args, **kwargs)\u001b[0m\n\u001b[0;32m    146\u001b[0m     \u001b[38;5;28;01mraise\u001b[39;00m \u001b[38;5;167;01mTypeError\u001b[39;00m(\u001b[38;5;124mf\u001b[39m\u001b[38;5;124m'\u001b[39m\u001b[38;5;124m_set_option() got an unexpected keyword argument \u001b[39m\u001b[38;5;124m\"\u001b[39m\u001b[38;5;132;01m{\u001b[39;00mkwarg\u001b[38;5;132;01m}\u001b[39;00m\u001b[38;5;124m\"\u001b[39m\u001b[38;5;124m'\u001b[39m)\n\u001b[0;32m    148\u001b[0m \u001b[38;5;28;01mfor\u001b[39;00m k, v \u001b[38;5;129;01min\u001b[39;00m \u001b[38;5;28mzip\u001b[39m(args[::\u001b[38;5;241m2\u001b[39m], args[\u001b[38;5;241m1\u001b[39m::\u001b[38;5;241m2\u001b[39m]):\n\u001b[1;32m--> 149\u001b[0m     key \u001b[38;5;241m=\u001b[39m \u001b[43m_get_single_key\u001b[49m\u001b[43m(\u001b[49m\u001b[43mk\u001b[49m\u001b[43m,\u001b[49m\u001b[43m \u001b[49m\u001b[43msilent\u001b[49m\u001b[43m)\u001b[49m\n\u001b[0;32m    151\u001b[0m     o \u001b[38;5;241m=\u001b[39m _get_registered_option(key)\n\u001b[0;32m    152\u001b[0m     \u001b[38;5;28;01mif\u001b[39;00m o \u001b[38;5;129;01mand\u001b[39;00m o\u001b[38;5;241m.\u001b[39mvalidator:\n",
      "File \u001b[1;32m~\\miniconda3\\lib\\site-packages\\pandas\\_config\\config.py:116\u001b[0m, in \u001b[0;36m_get_single_key\u001b[1;34m(pat, silent)\u001b[0m\n\u001b[0;32m    114\u001b[0m     \u001b[38;5;28;01mraise\u001b[39;00m OptionError(\u001b[38;5;124mf\u001b[39m\u001b[38;5;124m\"\u001b[39m\u001b[38;5;124mNo such keys(s): \u001b[39m\u001b[38;5;132;01m{\u001b[39;00m\u001b[38;5;28mrepr\u001b[39m(pat)\u001b[38;5;132;01m}\u001b[39;00m\u001b[38;5;124m\"\u001b[39m)\n\u001b[0;32m    115\u001b[0m \u001b[38;5;28;01mif\u001b[39;00m \u001b[38;5;28mlen\u001b[39m(keys) \u001b[38;5;241m>\u001b[39m \u001b[38;5;241m1\u001b[39m:\n\u001b[1;32m--> 116\u001b[0m     \u001b[38;5;28;01mraise\u001b[39;00m OptionError(\u001b[38;5;124m\"\u001b[39m\u001b[38;5;124mPattern matched multiple keys\u001b[39m\u001b[38;5;124m\"\u001b[39m)\n\u001b[0;32m    117\u001b[0m key \u001b[38;5;241m=\u001b[39m keys[\u001b[38;5;241m0\u001b[39m]\n\u001b[0;32m    119\u001b[0m \u001b[38;5;28;01mif\u001b[39;00m \u001b[38;5;129;01mnot\u001b[39;00m silent:\n",
      "\u001b[1;31mOptionError\u001b[0m: 'Pattern matched multiple keys'"
     ]
    }
   ],
   "source": [
    "pd.set_option('precision', 2)\n",
    "\n",
    "grades.describe()"
   ]
  },
  {
   "cell_type": "code",
   "execution_count": 37,
   "id": "461278a8-9d9b-4dc4-bbac-5b599890bb12",
   "metadata": {},
   "outputs": [],
   "source": [
    "#nope. That didn't work. Let's try the other option"
   ]
  },
  {
   "cell_type": "code",
   "execution_count": 40,
   "id": "b5f7c253-f2fe-497e-8101-40adaff706cd",
   "metadata": {},
   "outputs": [],
   "source": [
    "pd.set_option(\"display.precision\", 2) #this would have worked with the space after the comma if I'd added\n",
    "# grades.describe() \n",
    "#the suggestion in the assignment was missing a space after the comma. "
   ]
  },
  {
   "cell_type": "code",
   "execution_count": null,
   "id": "ba763fae-f75a-4e46-aadb-c844bb67304f",
   "metadata": {},
   "outputs": [],
   "source": []
  },
  {
   "cell_type": "code",
   "execution_count": 41,
   "id": "a9fb0fa2-e5ea-4228-8d60-d25c37a74a93",
   "metadata": {},
   "outputs": [
    {
     "ename": "NameError",
     "evalue": "name 'pandas' is not defined",
     "output_type": "error",
     "traceback": [
      "\u001b[1;31m---------------------------------------------------------------------------\u001b[0m",
      "\u001b[1;31mNameError\u001b[0m                                 Traceback (most recent call last)",
      "Input \u001b[1;32mIn [41]\u001b[0m, in \u001b[0;36m<cell line: 3>\u001b[1;34m()\u001b[0m\n\u001b[0;32m      1\u001b[0m \u001b[38;5;66;03m#let's try again.\u001b[39;00m\n\u001b[1;32m----> 3\u001b[0m \u001b[43mpandas\u001b[49m\u001b[38;5;241m.\u001b[39mset_option(\u001b[38;5;124m\"\u001b[39m\u001b[38;5;124mdisplay.precision\u001b[39m\u001b[38;5;124m\"\u001b[39m, \u001b[38;5;241m2\u001b[39m)\n",
      "\u001b[1;31mNameError\u001b[0m: name 'pandas' is not defined"
     ]
    }
   ],
   "source": [
    "#let's try again.\n",
    "\n",
    "pandas.set_option(\"display.precision\", 2) #pandas spelled out came directly from a Google search"
   ]
  },
  {
   "cell_type": "code",
   "execution_count": 45,
   "id": "98e44a61-c197-4984-ba2a-efa66025aa16",
   "metadata": {},
   "outputs": [
    {
     "ename": "NameError",
     "evalue": "name 'pandas' is not defined",
     "output_type": "error",
     "traceback": [
      "\u001b[1;31m---------------------------------------------------------------------------\u001b[0m",
      "\u001b[1;31mNameError\u001b[0m                                 Traceback (most recent call last)",
      "Input \u001b[1;32mIn [45]\u001b[0m, in \u001b[0;36m<cell line: 3>\u001b[1;34m()\u001b[0m\n\u001b[0;32m      1\u001b[0m \u001b[38;5;66;03m#let's try again.\u001b[39;00m\n\u001b[1;32m----> 3\u001b[0m \u001b[43mpandas\u001b[49m\u001b[38;5;241m.\u001b[39mset_option(\u001b[38;5;124m\"\u001b[39m\u001b[38;5;124mdisplay.precision\u001b[39m\u001b[38;5;124m\"\u001b[39m, \u001b[38;5;241m2\u001b[39m)\n\u001b[0;32m      5\u001b[0m grades\u001b[38;5;241m.\u001b[39mdescribe()\n",
      "\u001b[1;31mNameError\u001b[0m: name 'pandas' is not defined"
     ]
    }
   ],
   "source": [
    "#let's try again.\n",
    "\n",
    "pandas.set_option(\"display.precision\", 2)\n",
    "\n",
    "grades.describe() #I forgot to put this last time"
   ]
  },
  {
   "cell_type": "code",
   "execution_count": 43,
   "id": "ebe77da5-9b97-4309-8485-bebb11f27020",
   "metadata": {},
   "outputs": [
    {
     "data": {
      "text/html": [
       "<div>\n",
       "<style scoped>\n",
       "    .dataframe tbody tr th:only-of-type {\n",
       "        vertical-align: middle;\n",
       "    }\n",
       "\n",
       "    .dataframe tbody tr th {\n",
       "        vertical-align: top;\n",
       "    }\n",
       "\n",
       "    .dataframe thead th {\n",
       "        text-align: right;\n",
       "    }\n",
       "</style>\n",
       "<table border=\"1\" class=\"dataframe\">\n",
       "  <thead>\n",
       "    <tr style=\"text-align: right;\">\n",
       "      <th></th>\n",
       "      <th>Wally</th>\n",
       "      <th>Eva</th>\n",
       "      <th>Sam</th>\n",
       "      <th>Katie</th>\n",
       "      <th>Bob</th>\n",
       "    </tr>\n",
       "  </thead>\n",
       "  <tbody>\n",
       "    <tr>\n",
       "      <th>count</th>\n",
       "      <td>3.00</td>\n",
       "      <td>3.00</td>\n",
       "      <td>3.00</td>\n",
       "      <td>3.00</td>\n",
       "      <td>3.00</td>\n",
       "    </tr>\n",
       "    <tr>\n",
       "      <th>mean</th>\n",
       "      <td>84.33</td>\n",
       "      <td>92.33</td>\n",
       "      <td>87.00</td>\n",
       "      <td>87.67</td>\n",
       "      <td>77.67</td>\n",
       "    </tr>\n",
       "    <tr>\n",
       "      <th>std</th>\n",
       "      <td>13.20</td>\n",
       "      <td>6.81</td>\n",
       "      <td>8.89</td>\n",
       "      <td>10.69</td>\n",
       "      <td>11.02</td>\n",
       "    </tr>\n",
       "    <tr>\n",
       "      <th>min</th>\n",
       "      <td>70.00</td>\n",
       "      <td>87.00</td>\n",
       "      <td>77.00</td>\n",
       "      <td>81.00</td>\n",
       "      <td>65.00</td>\n",
       "    </tr>\n",
       "    <tr>\n",
       "      <th>25%</th>\n",
       "      <td>78.50</td>\n",
       "      <td>88.50</td>\n",
       "      <td>83.50</td>\n",
       "      <td>81.50</td>\n",
       "      <td>74.00</td>\n",
       "    </tr>\n",
       "    <tr>\n",
       "      <th>50%</th>\n",
       "      <td>87.00</td>\n",
       "      <td>90.00</td>\n",
       "      <td>90.00</td>\n",
       "      <td>82.00</td>\n",
       "      <td>83.00</td>\n",
       "    </tr>\n",
       "    <tr>\n",
       "      <th>75%</th>\n",
       "      <td>91.50</td>\n",
       "      <td>95.00</td>\n",
       "      <td>92.00</td>\n",
       "      <td>91.00</td>\n",
       "      <td>84.00</td>\n",
       "    </tr>\n",
       "    <tr>\n",
       "      <th>max</th>\n",
       "      <td>96.00</td>\n",
       "      <td>100.00</td>\n",
       "      <td>94.00</td>\n",
       "      <td>100.00</td>\n",
       "      <td>85.00</td>\n",
       "    </tr>\n",
       "  </tbody>\n",
       "</table>\n",
       "</div>"
      ],
      "text/plain": [
       "       Wally     Eva    Sam   Katie    Bob\n",
       "count   3.00    3.00   3.00    3.00   3.00\n",
       "mean   84.33   92.33  87.00   87.67  77.67\n",
       "std    13.20    6.81   8.89   10.69  11.02\n",
       "min    70.00   87.00  77.00   81.00  65.00\n",
       "25%    78.50   88.50  83.50   81.50  74.00\n",
       "50%    87.00   90.00  90.00   82.00  83.00\n",
       "75%    91.50   95.00  92.00   91.00  84.00\n",
       "max    96.00  100.00  94.00  100.00  85.00"
      ]
     },
     "execution_count": 43,
     "metadata": {},
     "output_type": "execute_result"
    }
   ],
   "source": [
    "#let's try again...\n",
    "\n",
    "pd.set_option(\"display.precision\", 2)\n",
    "\n",
    "grades.describe()"
   ]
  },
  {
   "cell_type": "code",
   "execution_count": 44,
   "id": "6e857618-481c-450a-a027-89b5d6d844a0",
   "metadata": {},
   "outputs": [],
   "source": [
    "#silent dance party"
   ]
  },
  {
   "cell_type": "code",
   "execution_count": null,
   "id": "0b527136-2414-415f-8a96-dc579ac5c417",
   "metadata": {},
   "outputs": [],
   "source": []
  },
  {
   "cell_type": "code",
   "execution_count": 46,
   "id": "81b97c77-405f-43fb-89c8-e54fdb6e85c8",
   "metadata": {},
   "outputs": [
    {
     "data": {
      "text/plain": [
       "Wally    84.33\n",
       "Eva      92.33\n",
       "Sam      87.00\n",
       "Katie    87.67\n",
       "Bob      77.67\n",
       "dtype: float64"
      ]
     },
     "execution_count": 46,
     "metadata": {},
     "output_type": "execute_result"
    }
   ],
   "source": [
    "grades.mean()"
   ]
  },
  {
   "cell_type": "code",
   "execution_count": null,
   "id": "40f844fc-3d3e-47c9-a8c5-769db3969a80",
   "metadata": {},
   "outputs": [],
   "source": []
  },
  {
   "cell_type": "code",
   "execution_count": 47,
   "id": "4c9e8faf-69da-4eac-a282-32862d29cdb6",
   "metadata": {},
   "outputs": [],
   "source": [
    "# Sorting rows in reverse order, pg. 272"
   ]
  },
  {
   "cell_type": "code",
   "execution_count": 48,
   "id": "9a9a578f-2601-48e5-8ea2-fa101316ac6f",
   "metadata": {},
   "outputs": [
    {
     "data": {
      "text/html": [
       "<div>\n",
       "<style scoped>\n",
       "    .dataframe tbody tr th:only-of-type {\n",
       "        vertical-align: middle;\n",
       "    }\n",
       "\n",
       "    .dataframe tbody tr th {\n",
       "        vertical-align: top;\n",
       "    }\n",
       "\n",
       "    .dataframe thead th {\n",
       "        text-align: right;\n",
       "    }\n",
       "</style>\n",
       "<table border=\"1\" class=\"dataframe\">\n",
       "  <thead>\n",
       "    <tr style=\"text-align: right;\">\n",
       "      <th></th>\n",
       "      <th>Wally</th>\n",
       "      <th>Eva</th>\n",
       "      <th>Sam</th>\n",
       "      <th>Katie</th>\n",
       "      <th>Bob</th>\n",
       "    </tr>\n",
       "  </thead>\n",
       "  <tbody>\n",
       "    <tr>\n",
       "      <th>Test3</th>\n",
       "      <td>70</td>\n",
       "      <td>90</td>\n",
       "      <td>90</td>\n",
       "      <td>82</td>\n",
       "      <td>85</td>\n",
       "    </tr>\n",
       "    <tr>\n",
       "      <th>Test2</th>\n",
       "      <td>96</td>\n",
       "      <td>87</td>\n",
       "      <td>77</td>\n",
       "      <td>81</td>\n",
       "      <td>65</td>\n",
       "    </tr>\n",
       "    <tr>\n",
       "      <th>Test1</th>\n",
       "      <td>87</td>\n",
       "      <td>100</td>\n",
       "      <td>94</td>\n",
       "      <td>100</td>\n",
       "      <td>83</td>\n",
       "    </tr>\n",
       "  </tbody>\n",
       "</table>\n",
       "</div>"
      ],
      "text/plain": [
       "       Wally  Eva  Sam  Katie  Bob\n",
       "Test3     70   90   90     82   85\n",
       "Test2     96   87   77     81   65\n",
       "Test1     87  100   94    100   83"
      ]
     },
     "execution_count": 48,
     "metadata": {},
     "output_type": "execute_result"
    }
   ],
   "source": [
    "grades.sort_index(ascending=False)"
   ]
  },
  {
   "cell_type": "code",
   "execution_count": null,
   "id": "2f7cc7ff-f940-49d5-937e-8ea47d03aeb1",
   "metadata": {},
   "outputs": [],
   "source": []
  },
  {
   "cell_type": "code",
   "execution_count": 49,
   "id": "7cebb4bc-b456-4716-b9df-3cb09b9f5040",
   "metadata": {},
   "outputs": [],
   "source": [
    "#sorting columns - alphabetical for strings - (ascending order, left to right)"
   ]
  },
  {
   "cell_type": "code",
   "execution_count": 50,
   "id": "85f972c3-96d4-4b7e-971a-4285f0606746",
   "metadata": {},
   "outputs": [
    {
     "data": {
      "text/html": [
       "<div>\n",
       "<style scoped>\n",
       "    .dataframe tbody tr th:only-of-type {\n",
       "        vertical-align: middle;\n",
       "    }\n",
       "\n",
       "    .dataframe tbody tr th {\n",
       "        vertical-align: top;\n",
       "    }\n",
       "\n",
       "    .dataframe thead th {\n",
       "        text-align: right;\n",
       "    }\n",
       "</style>\n",
       "<table border=\"1\" class=\"dataframe\">\n",
       "  <thead>\n",
       "    <tr style=\"text-align: right;\">\n",
       "      <th></th>\n",
       "      <th>Bob</th>\n",
       "      <th>Eva</th>\n",
       "      <th>Katie</th>\n",
       "      <th>Sam</th>\n",
       "      <th>Wally</th>\n",
       "    </tr>\n",
       "  </thead>\n",
       "  <tbody>\n",
       "    <tr>\n",
       "      <th>Test1</th>\n",
       "      <td>83</td>\n",
       "      <td>100</td>\n",
       "      <td>100</td>\n",
       "      <td>94</td>\n",
       "      <td>87</td>\n",
       "    </tr>\n",
       "    <tr>\n",
       "      <th>Test2</th>\n",
       "      <td>65</td>\n",
       "      <td>87</td>\n",
       "      <td>81</td>\n",
       "      <td>77</td>\n",
       "      <td>96</td>\n",
       "    </tr>\n",
       "    <tr>\n",
       "      <th>Test3</th>\n",
       "      <td>85</td>\n",
       "      <td>90</td>\n",
       "      <td>82</td>\n",
       "      <td>90</td>\n",
       "      <td>70</td>\n",
       "    </tr>\n",
       "  </tbody>\n",
       "</table>\n",
       "</div>"
      ],
      "text/plain": [
       "       Bob  Eva  Katie  Sam  Wally\n",
       "Test1   83  100    100   94     87\n",
       "Test2   65   87     81   77     96\n",
       "Test3   85   90     82   90     70"
      ]
     },
     "execution_count": 50,
     "metadata": {},
     "output_type": "execute_result"
    }
   ],
   "source": [
    "grades.sort_index(axis=1)"
   ]
  },
  {
   "cell_type": "markdown",
   "id": "36473f24-692b-42a1-ae9c-7c33efc04881",
   "metadata": {},
   "source": [
    "# Dasha Davis"
   ]
  },
  {
   "cell_type": "code",
   "execution_count": 52,
   "id": "2f7b8acf-8bd6-4a5c-8a9f-dd1ad20ba60a",
   "metadata": {},
   "outputs": [],
   "source": [
    "# Sorting by Column Values, p273, by using 'sort_values'"
   ]
  },
  {
   "cell_type": "code",
   "execution_count": 53,
   "id": "66478b78-cf9a-4a59-852b-ec575bf6942c",
   "metadata": {},
   "outputs": [],
   "source": [
    "# in this case, Test1, highest scores to lowest scores in the columns"
   ]
  },
  {
   "cell_type": "code",
   "execution_count": 54,
   "id": "f8b85945-4075-4e30-8f3d-dcb512aeaba5",
   "metadata": {},
   "outputs": [
    {
     "data": {
      "text/html": [
       "<div>\n",
       "<style scoped>\n",
       "    .dataframe tbody tr th:only-of-type {\n",
       "        vertical-align: middle;\n",
       "    }\n",
       "\n",
       "    .dataframe tbody tr th {\n",
       "        vertical-align: top;\n",
       "    }\n",
       "\n",
       "    .dataframe thead th {\n",
       "        text-align: right;\n",
       "    }\n",
       "</style>\n",
       "<table border=\"1\" class=\"dataframe\">\n",
       "  <thead>\n",
       "    <tr style=\"text-align: right;\">\n",
       "      <th></th>\n",
       "      <th>Eva</th>\n",
       "      <th>Katie</th>\n",
       "      <th>Sam</th>\n",
       "      <th>Wally</th>\n",
       "      <th>Bob</th>\n",
       "    </tr>\n",
       "  </thead>\n",
       "  <tbody>\n",
       "    <tr>\n",
       "      <th>Test1</th>\n",
       "      <td>100</td>\n",
       "      <td>100</td>\n",
       "      <td>94</td>\n",
       "      <td>87</td>\n",
       "      <td>83</td>\n",
       "    </tr>\n",
       "    <tr>\n",
       "      <th>Test2</th>\n",
       "      <td>87</td>\n",
       "      <td>81</td>\n",
       "      <td>77</td>\n",
       "      <td>96</td>\n",
       "      <td>65</td>\n",
       "    </tr>\n",
       "    <tr>\n",
       "      <th>Test3</th>\n",
       "      <td>90</td>\n",
       "      <td>82</td>\n",
       "      <td>90</td>\n",
       "      <td>70</td>\n",
       "      <td>85</td>\n",
       "    </tr>\n",
       "  </tbody>\n",
       "</table>\n",
       "</div>"
      ],
      "text/plain": [
       "       Eva  Katie  Sam  Wally  Bob\n",
       "Test1  100    100   94     87   83\n",
       "Test2   87     81   77     96   65\n",
       "Test3   90     82   90     70   85"
      ]
     },
     "execution_count": 54,
     "metadata": {},
     "output_type": "execute_result"
    }
   ],
   "source": [
    "grades.sort_values(by='Test1', axis=1, ascending=False)"
   ]
  },
  {
   "cell_type": "code",
   "execution_count": null,
   "id": "2fc9199e-1aa1-47e7-b871-550c2e60dd43",
   "metadata": {},
   "outputs": [],
   "source": []
  },
  {
   "cell_type": "code",
   "execution_count": 55,
   "id": "5d268a90-a5e9-426d-9059-10c37f24e6fc",
   "metadata": {},
   "outputs": [],
   "source": [
    "#or we can transpose the DataFrame, but putting names as rows and tests as columns"
   ]
  },
  {
   "cell_type": "code",
   "execution_count": 56,
   "id": "5cd6b7c4-3310-4315-847a-499b7c401553",
   "metadata": {},
   "outputs": [
    {
     "data": {
      "text/html": [
       "<div>\n",
       "<style scoped>\n",
       "    .dataframe tbody tr th:only-of-type {\n",
       "        vertical-align: middle;\n",
       "    }\n",
       "\n",
       "    .dataframe tbody tr th {\n",
       "        vertical-align: top;\n",
       "    }\n",
       "\n",
       "    .dataframe thead th {\n",
       "        text-align: right;\n",
       "    }\n",
       "</style>\n",
       "<table border=\"1\" class=\"dataframe\">\n",
       "  <thead>\n",
       "    <tr style=\"text-align: right;\">\n",
       "      <th></th>\n",
       "      <th>Test1</th>\n",
       "      <th>Test2</th>\n",
       "      <th>Test3</th>\n",
       "    </tr>\n",
       "  </thead>\n",
       "  <tbody>\n",
       "    <tr>\n",
       "      <th>Eva</th>\n",
       "      <td>100</td>\n",
       "      <td>87</td>\n",
       "      <td>90</td>\n",
       "    </tr>\n",
       "    <tr>\n",
       "      <th>Katie</th>\n",
       "      <td>100</td>\n",
       "      <td>81</td>\n",
       "      <td>82</td>\n",
       "    </tr>\n",
       "    <tr>\n",
       "      <th>Sam</th>\n",
       "      <td>94</td>\n",
       "      <td>77</td>\n",
       "      <td>90</td>\n",
       "    </tr>\n",
       "    <tr>\n",
       "      <th>Wally</th>\n",
       "      <td>87</td>\n",
       "      <td>96</td>\n",
       "      <td>70</td>\n",
       "    </tr>\n",
       "    <tr>\n",
       "      <th>Bob</th>\n",
       "      <td>83</td>\n",
       "      <td>65</td>\n",
       "      <td>85</td>\n",
       "    </tr>\n",
       "  </tbody>\n",
       "</table>\n",
       "</div>"
      ],
      "text/plain": [
       "       Test1  Test2  Test3\n",
       "Eva      100     87     90\n",
       "Katie    100     81     82\n",
       "Sam       94     77     90\n",
       "Wally     87     96     70\n",
       "Bob       83     65     85"
      ]
     },
     "execution_count": 56,
     "metadata": {},
     "output_type": "execute_result"
    }
   ],
   "source": [
    "grades.T.sort_values(by='Test1', ascending=False)"
   ]
  },
  {
   "cell_type": "code",
   "execution_count": 57,
   "id": "c9c89858-c0fc-421f-adef-0569a7dd7d3d",
   "metadata": {},
   "outputs": [
    {
     "data": {
      "text/plain": [
       "Eva      100\n",
       "Katie    100\n",
       "Sam       94\n",
       "Wally     87\n",
       "Bob       83\n",
       "Name: Test1, dtype: int64"
      ]
     },
     "execution_count": 57,
     "metadata": {},
     "output_type": "execute_result"
    }
   ],
   "source": [
    "#maybe I only want to see Test 1 and not the other data\n",
    "\n",
    "grades.loc['Test1'].sort_values(ascending=False)"
   ]
  },
  {
   "cell_type": "code",
   "execution_count": null,
   "id": "3f380216-4a03-479f-923f-2c100b53922c",
   "metadata": {},
   "outputs": [],
   "source": []
  },
  {
   "cell_type": "markdown",
   "id": "37c4dc91-ed35-4e8d-9d16-16a80e8a3a04",
   "metadata": {},
   "source": [
    "# Self-Check, pg. 274, 7.14.2"
   ]
  },
  {
   "cell_type": "code",
   "execution_count": 59,
   "id": "9e2c360c-74d2-415d-8bff-8e0be733198c",
   "metadata": {},
   "outputs": [],
   "source": [
    "import pandas as pd\n",
    "\n",
    "temps = {'Mon': [68, 89], 'Tue': [71, 93], 'Wed': [66, 82], 'Thu': [75, 97], 'Fri': [62, 79]}\n",
    "\n",
    "tempertures = pd.DataFrame(temps, index=['Low', 'High']) #(a)\n"
   ]
  },
  {
   "cell_type": "code",
   "execution_count": 60,
   "id": "48e4b154-f1ba-40a5-9473-0c8aad316f67",
   "metadata": {},
   "outputs": [
    {
     "ename": "NameError",
     "evalue": "name 'temperatures' is not defined",
     "output_type": "error",
     "traceback": [
      "\u001b[1;31m---------------------------------------------------------------------------\u001b[0m",
      "\u001b[1;31mNameError\u001b[0m                                 Traceback (most recent call last)",
      "Input \u001b[1;32mIn [60]\u001b[0m, in \u001b[0;36m<cell line: 1>\u001b[1;34m()\u001b[0m\n\u001b[1;32m----> 1\u001b[0m \u001b[43mtemperatures\u001b[49m\n",
      "\u001b[1;31mNameError\u001b[0m: name 'temperatures' is not defined"
     ]
    }
   ],
   "source": [
    "temperatures # (a)"
   ]
  },
  {
   "cell_type": "code",
   "execution_count": null,
   "id": "9bc2231f-29ac-4e5e-9908-9151e537bce1",
   "metadata": {},
   "outputs": [],
   "source": [
    "#ha! I see the error in my ways - spelled temperatures wrong the first time"
   ]
  },
  {
   "cell_type": "code",
   "execution_count": 62,
   "id": "3dc3a082-80f0-4fed-8273-eca295ac5dba",
   "metadata": {},
   "outputs": [],
   "source": [
    "import pandas as pd\n",
    "\n",
    "temps = {'Mon': [68, 89], 'Tue': [71, 93], 'Wed': [66, 82], 'Thu': [75, 97], 'Fri': [62, 79]}\n",
    "\n",
    "temperatures = pd.DataFrame(temps, index=['Low', 'High']) #(a)\n"
   ]
  },
  {
   "cell_type": "code",
   "execution_count": 63,
   "id": "91cdd25f-79e6-465e-aa1f-a6fe6f96b286",
   "metadata": {},
   "outputs": [
    {
     "data": {
      "text/html": [
       "<div>\n",
       "<style scoped>\n",
       "    .dataframe tbody tr th:only-of-type {\n",
       "        vertical-align: middle;\n",
       "    }\n",
       "\n",
       "    .dataframe tbody tr th {\n",
       "        vertical-align: top;\n",
       "    }\n",
       "\n",
       "    .dataframe thead th {\n",
       "        text-align: right;\n",
       "    }\n",
       "</style>\n",
       "<table border=\"1\" class=\"dataframe\">\n",
       "  <thead>\n",
       "    <tr style=\"text-align: right;\">\n",
       "      <th></th>\n",
       "      <th>Mon</th>\n",
       "      <th>Tue</th>\n",
       "      <th>Wed</th>\n",
       "      <th>Thu</th>\n",
       "      <th>Fri</th>\n",
       "    </tr>\n",
       "  </thead>\n",
       "  <tbody>\n",
       "    <tr>\n",
       "      <th>Low</th>\n",
       "      <td>68</td>\n",
       "      <td>71</td>\n",
       "      <td>66</td>\n",
       "      <td>75</td>\n",
       "      <td>62</td>\n",
       "    </tr>\n",
       "    <tr>\n",
       "      <th>High</th>\n",
       "      <td>89</td>\n",
       "      <td>93</td>\n",
       "      <td>82</td>\n",
       "      <td>97</td>\n",
       "      <td>79</td>\n",
       "    </tr>\n",
       "  </tbody>\n",
       "</table>\n",
       "</div>"
      ],
      "text/plain": [
       "      Mon  Tue  Wed  Thu  Fri\n",
       "Low    68   71   66   75   62\n",
       "High   89   93   82   97   79"
      ]
     },
     "execution_count": 63,
     "metadata": {},
     "output_type": "execute_result"
    }
   ],
   "source": [
    "temperatures"
   ]
  },
  {
   "cell_type": "code",
   "execution_count": null,
   "id": "293bcf95-7c7c-49c7-ba9e-4ab8fa7b08ff",
   "metadata": {},
   "outputs": [],
   "source": []
  },
  {
   "cell_type": "code",
   "execution_count": 64,
   "id": "50668e8a-2f84-46b4-bf6c-0df7b22f5878",
   "metadata": {},
   "outputs": [
    {
     "data": {
      "text/html": [
       "<div>\n",
       "<style scoped>\n",
       "    .dataframe tbody tr th:only-of-type {\n",
       "        vertical-align: middle;\n",
       "    }\n",
       "\n",
       "    .dataframe tbody tr th {\n",
       "        vertical-align: top;\n",
       "    }\n",
       "\n",
       "    .dataframe thead th {\n",
       "        text-align: right;\n",
       "    }\n",
       "</style>\n",
       "<table border=\"1\" class=\"dataframe\">\n",
       "  <thead>\n",
       "    <tr style=\"text-align: right;\">\n",
       "      <th></th>\n",
       "      <th>Mon</th>\n",
       "      <th>Tue</th>\n",
       "      <th>Wed</th>\n",
       "    </tr>\n",
       "  </thead>\n",
       "  <tbody>\n",
       "    <tr>\n",
       "      <th>Low</th>\n",
       "      <td>68</td>\n",
       "      <td>71</td>\n",
       "      <td>66</td>\n",
       "    </tr>\n",
       "    <tr>\n",
       "      <th>High</th>\n",
       "      <td>89</td>\n",
       "      <td>93</td>\n",
       "      <td>82</td>\n",
       "    </tr>\n",
       "  </tbody>\n",
       "</table>\n",
       "</div>"
      ],
      "text/plain": [
       "      Mon  Tue  Wed\n",
       "Low    68   71   66\n",
       "High   89   93   82"
      ]
     },
     "execution_count": 64,
     "metadata": {},
     "output_type": "execute_result"
    }
   ],
   "source": [
    "temperatures.loc[:, 'Mon':'Wed'] "
   ]
  },
  {
   "cell_type": "code",
   "execution_count": 65,
   "id": "7d9364bc-3358-43db-9593-46ca213e6828",
   "metadata": {},
   "outputs": [
    {
     "data": {
      "text/plain": [
       "Mon    68\n",
       "Tue    71\n",
       "Wed    66\n",
       "Thu    75\n",
       "Fri    62\n",
       "Name: Low, dtype: int64"
      ]
     },
     "execution_count": 65,
     "metadata": {},
     "output_type": "execute_result"
    }
   ],
   "source": [
    "tempertures.loc['Low']"
   ]
  },
  {
   "cell_type": "code",
   "execution_count": null,
   "id": "b7d4f677-ec97-4128-a77d-b0a538d933e1",
   "metadata": {},
   "outputs": [],
   "source": []
  },
  {
   "cell_type": "code",
   "execution_count": 66,
   "id": "018a0441-f873-40a6-bd69-6fe469076aee",
   "metadata": {},
   "outputs": [],
   "source": [
    "#to set precision "
   ]
  },
  {
   "cell_type": "code",
   "execution_count": 67,
   "id": "b9af8e10-6363-4c0d-94e3-8c79cda60b12",
   "metadata": {},
   "outputs": [
    {
     "data": {
      "text/plain": [
       "Mon    78.5\n",
       "Tue    82.0\n",
       "Wed    74.0\n",
       "Thu    86.0\n",
       "Fri    70.5\n",
       "dtype: float64"
      ]
     },
     "execution_count": 67,
     "metadata": {},
     "output_type": "execute_result"
    }
   ],
   "source": [
    "pd.set_option(\"display.precision\", 2)\n",
    "\n",
    "temperatures.mean()"
   ]
  },
  {
   "cell_type": "code",
   "execution_count": null,
   "id": "37799a3c-d210-4757-a981-07c3f555fb4b",
   "metadata": {},
   "outputs": [],
   "source": []
  },
  {
   "cell_type": "code",
   "execution_count": 68,
   "id": "88a049e0-bebe-4d62-9039-d49f1992d8b2",
   "metadata": {},
   "outputs": [
    {
     "data": {
      "text/plain": [
       "Low     68.4\n",
       "High    88.0\n",
       "dtype: float64"
      ]
     },
     "execution_count": 68,
     "metadata": {},
     "output_type": "execute_result"
    }
   ],
   "source": [
    "temperatures.mean(axis=1)"
   ]
  },
  {
   "cell_type": "markdown",
   "id": "22859803-7186-4379-a1e5-96cebd8b5609",
   "metadata": {},
   "source": [
    "# Dasha Davis - End of Self-Check 7.14.2"
   ]
  },
  {
   "cell_type": "code",
   "execution_count": null,
   "id": "dba5fa40-3c27-4d85-81fb-6626fb8fefe8",
   "metadata": {},
   "outputs": [],
   "source": []
  }
 ],
 "metadata": {
  "kernelspec": {
   "display_name": "Python 3 (ipykernel)",
   "language": "python",
   "name": "python3"
  },
  "language_info": {
   "codemirror_mode": {
    "name": "ipython",
    "version": 3
   },
   "file_extension": ".py",
   "mimetype": "text/x-python",
   "name": "python",
   "nbconvert_exporter": "python",
   "pygments_lexer": "ipython3",
   "version": "3.9.12"
  }
 },
 "nbformat": 4,
 "nbformat_minor": 5
}

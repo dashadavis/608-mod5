{
 "cells": [
  {
   "cell_type": "markdown",
   "id": "8cb3b1fa-e094-4546-906f-0fc5348ab132",
   "metadata": {},
   "source": [
    "# Dasha Davis 7.14 Pandas Series and DataFrames"
   ]
  },
  {
   "cell_type": "code",
   "execution_count": 3,
   "id": "3cb23e80-8dfc-40a5-91d2-e05d4e5645cb",
   "metadata": {},
   "outputs": [],
   "source": [
    "# Creating a Series with Default Indices"
   ]
  },
  {
   "cell_type": "code",
   "execution_count": 6,
   "id": "08776d7b-5f18-4fb0-b46e-60989b083755",
   "metadata": {},
   "outputs": [],
   "source": [
    "import pandas as pd\n",
    "\n",
    "grades = pd.Series([87, 100, 94])"
   ]
  },
  {
   "cell_type": "code",
   "execution_count": 9,
   "id": "35116abd-30f5-4961-b4fc-5ccaa79ede86",
   "metadata": {},
   "outputs": [],
   "source": [
    "# displaying a series in 2-column format with indices left aligned and values right aligned"
   ]
  },
  {
   "cell_type": "code",
   "execution_count": 10,
   "id": "77588825-03c4-429b-9bc6-a9dbeec9b589",
   "metadata": {},
   "outputs": [
    {
     "data": {
      "text/plain": [
       "0     87\n",
       "1    100\n",
       "2     94\n",
       "dtype: int64"
      ]
     },
     "execution_count": 10,
     "metadata": {},
     "output_type": "execute_result"
    }
   ],
   "source": [
    "grades #this is easier to display then using a 'list' in this format"
   ]
  },
  {
   "cell_type": "code",
   "execution_count": null,
   "id": "a213155e-fb3d-40d2-86a9-474f340e0536",
   "metadata": {},
   "outputs": [],
   "source": []
  },
  {
   "cell_type": "code",
   "execution_count": 13,
   "id": "f7544d23-c7eb-4e52-a189-d18b287736d9",
   "metadata": {},
   "outputs": [],
   "source": [
    "#Creating a Series with all elements having the same value"
   ]
  },
  {
   "cell_type": "code",
   "execution_count": 14,
   "id": "7a3b22c5-2d1b-4ae0-9a22-6e657f762804",
   "metadata": {},
   "outputs": [
    {
     "data": {
      "text/plain": [
       "0    98.6\n",
       "1    98.6\n",
       "2    98.6\n",
       "dtype: float64"
      ]
     },
     "execution_count": 14,
     "metadata": {},
     "output_type": "execute_result"
    }
   ],
   "source": [
    "pd.Series(98.6, range(3)) #number of indices(3) determines the number of elements"
   ]
  },
  {
   "cell_type": "code",
   "execution_count": 15,
   "id": "d386b6cb-458e-46db-b82e-e741c34ecbd3",
   "metadata": {},
   "outputs": [],
   "source": [
    "#Accessing a Series' Elements via square brackets containing an index:"
   ]
  },
  {
   "cell_type": "code",
   "execution_count": 16,
   "id": "e9b46276-afc5-4d4e-88bd-e37311e603cb",
   "metadata": {},
   "outputs": [
    {
     "data": {
      "text/plain": [
       "87"
      ]
     },
     "execution_count": 16,
     "metadata": {},
     "output_type": "execute_result"
    }
   ],
   "source": [
    "grades[0]"
   ]
  },
  {
   "cell_type": "code",
   "execution_count": null,
   "id": "33637729-8d90-46f0-8549-cbd3e8b69a50",
   "metadata": {},
   "outputs": [],
   "source": []
  },
  {
   "cell_type": "markdown",
   "id": "0c50988d-6bd0-4f61-bbf9-362ef12d76b3",
   "metadata": {},
   "source": [
    "## Descriptive Statistics for a Series, pg. 263"
   ]
  },
  {
   "cell_type": "code",
   "execution_count": 17,
   "id": "a2e97b90-ddd1-437a-bf53-7574cc954c2d",
   "metadata": {},
   "outputs": [],
   "source": [
    "#count, mean, min, max, and std (standard deviation)"
   ]
  },
  {
   "cell_type": "code",
   "execution_count": 18,
   "id": "b2bfe3c9-8dbf-4326-ad00-044f584297b0",
   "metadata": {},
   "outputs": [
    {
     "data": {
      "text/plain": [
       "3"
      ]
     },
     "execution_count": 18,
     "metadata": {},
     "output_type": "execute_result"
    }
   ],
   "source": [
    "grades.count()"
   ]
  },
  {
   "cell_type": "code",
   "execution_count": 19,
   "id": "d979923a-5b88-478d-bc33-b9d74e6cea75",
   "metadata": {},
   "outputs": [
    {
     "data": {
      "text/plain": [
       "93.66666666666667"
      ]
     },
     "execution_count": 19,
     "metadata": {},
     "output_type": "execute_result"
    }
   ],
   "source": [
    "grades.mean()"
   ]
  },
  {
   "cell_type": "code",
   "execution_count": 20,
   "id": "69309bc4-30c2-4772-bb3d-19eae9a704c1",
   "metadata": {},
   "outputs": [
    {
     "data": {
      "text/plain": [
       "87"
      ]
     },
     "execution_count": 20,
     "metadata": {},
     "output_type": "execute_result"
    }
   ],
   "source": [
    "grades.min()"
   ]
  },
  {
   "cell_type": "code",
   "execution_count": 21,
   "id": "63068da2-ff8b-4923-960c-5188ccc2a0e6",
   "metadata": {},
   "outputs": [
    {
     "data": {
      "text/plain": [
       "100"
      ]
     },
     "execution_count": 21,
     "metadata": {},
     "output_type": "execute_result"
    }
   ],
   "source": [
    "grades.max()"
   ]
  },
  {
   "cell_type": "code",
   "execution_count": 22,
   "id": "3ea2aa77-d4e6-446a-952a-2400eca65fa5",
   "metadata": {},
   "outputs": [
    {
     "data": {
      "text/plain": [
       "6.506407098647712"
      ]
     },
     "execution_count": 22,
     "metadata": {},
     "output_type": "execute_result"
    }
   ],
   "source": [
    "grades.std()"
   ]
  },
  {
   "cell_type": "code",
   "execution_count": 23,
   "id": "472b1985-19bd-4cf5-baa2-5f1bcebe4f75",
   "metadata": {},
   "outputs": [],
   "source": [
    "# ALL OF THESE ARE FUNCTIONAL STYLE REDUCTIONS"
   ]
  },
  {
   "cell_type": "code",
   "execution_count": null,
   "id": "00c50278-aeba-43c8-af52-e82af90f2115",
   "metadata": {},
   "outputs": [],
   "source": []
  },
  {
   "cell_type": "code",
   "execution_count": 24,
   "id": "6eac3cb8-9eb5-44b5-8ed6-3c3abe4bd9cb",
   "metadata": {},
   "outputs": [],
   "source": [
    "#Calling series method 'describe' produces all these stats, pg. 264"
   ]
  },
  {
   "cell_type": "code",
   "execution_count": 25,
   "id": "452249c3-2835-45bb-be63-1fb3c5509152",
   "metadata": {},
   "outputs": [
    {
     "data": {
      "text/plain": [
       "count      3.000000\n",
       "mean      93.666667\n",
       "std        6.506407\n",
       "min       87.000000\n",
       "25%       90.500000\n",
       "50%       94.000000\n",
       "75%       97.000000\n",
       "max      100.000000\n",
       "dtype: float64"
      ]
     },
     "execution_count": 25,
     "metadata": {},
     "output_type": "execute_result"
    }
   ],
   "source": [
    "grades.describe()"
   ]
  },
  {
   "cell_type": "code",
   "execution_count": 26,
   "id": "71f02bce-6961-4ef8-99e6-e7329ac3d34e",
   "metadata": {},
   "outputs": [],
   "source": [
    "#THIS IS SO COOL and very time efficent! TRY TO REMEMBER ALL THIS."
   ]
  },
  {
   "cell_type": "code",
   "execution_count": null,
   "id": "bd3025a8-f8f0-45f8-b36e-3f1d3ae735ec",
   "metadata": {},
   "outputs": [],
   "source": []
  },
  {
   "cell_type": "markdown",
   "id": "c70a670f-fe1c-46a4-9746-5f433dda34f1",
   "metadata": {},
   "source": [
    "## Dictionary Initializers, p. 264, initialize a series with a dictionary\n",
    "## The dictionary's keys become the Series' indices, and its values become the Series' element values"
   ]
  },
  {
   "cell_type": "code",
   "execution_count": 27,
   "id": "8ef22419-6215-43d8-ad04-0b2e18955da0",
   "metadata": {},
   "outputs": [
    {
     "data": {
      "text/plain": [
       "Wally     87\n",
       "Eva      100\n",
       "Sam       94\n",
       "dtype: int64"
      ]
     },
     "execution_count": 27,
     "metadata": {},
     "output_type": "execute_result"
    }
   ],
   "source": [
    "grades = pd.Series({'Wally': 87, 'Eva': 100, 'Sam': 94})\n",
    "\n",
    "grades"
   ]
  },
  {
   "cell_type": "code",
   "execution_count": null,
   "id": "9511879d-864c-4b96-85ee-68dde22d3fe7",
   "metadata": {},
   "outputs": [],
   "source": []
  },
  {
   "cell_type": "code",
   "execution_count": 29,
   "id": "fe36a332-5188-4fdb-b504-072b90eabd0b",
   "metadata": {},
   "outputs": [],
   "source": [
    "#Accessing Elements (on the right side) via Custom Indices - use square brackets"
   ]
  },
  {
   "cell_type": "code",
   "execution_count": 30,
   "id": "ef9a64c0-a7f6-4b87-b6c0-1e2fe17398aa",
   "metadata": {},
   "outputs": [
    {
     "data": {
      "text/plain": [
       "100"
      ]
     },
     "execution_count": 30,
     "metadata": {},
     "output_type": "execute_result"
    }
   ],
   "source": [
    "grades['Eva']"
   ]
  },
  {
   "cell_type": "code",
   "execution_count": 31,
   "id": "1b6b1f4f-cc1d-4ef1-a0c7-5a63ac3ec6f6",
   "metadata": {},
   "outputs": [
    {
     "data": {
      "text/plain": [
       "87"
      ]
     },
     "execution_count": 31,
     "metadata": {},
     "output_type": "execute_result"
    }
   ],
   "source": [
    "#can also use a dot\n",
    "\n",
    "grades.Wally   #oooohhh. This is super easy!"
   ]
  },
  {
   "cell_type": "code",
   "execution_count": 32,
   "id": "19889f57-a844-4c80-a265-e87abbed14f2",
   "metadata": {},
   "outputs": [],
   "source": [
    "#using the dot is more common, but only if there are no spaces in the key text! Otherwise, have to use the brackets like ['Eva'] above"
   ]
  },
  {
   "cell_type": "code",
   "execution_count": null,
   "id": "26ab6bc6-a694-4c7c-8b03-fab95acaab84",
   "metadata": {},
   "outputs": [],
   "source": []
  },
  {
   "cell_type": "code",
   "execution_count": 33,
   "id": "bdcc3715-93a1-4491-a324-1d0eb1b95646",
   "metadata": {},
   "outputs": [
    {
     "data": {
      "text/plain": [
       "dtype('int64')"
      ]
     },
     "execution_count": 33,
     "metadata": {},
     "output_type": "execute_result"
    }
   ],
   "source": [
    "# 'dtype attribute' returns the underlying array's element type\n",
    "\n",
    "grades.dtype"
   ]
  },
  {
   "cell_type": "code",
   "execution_count": 34,
   "id": "6dbd547b-12aa-4d07-8a14-ebb079f2d6a0",
   "metadata": {},
   "outputs": [
    {
     "data": {
      "text/plain": [
       "array([ 87, 100,  94], dtype=int64)"
      ]
     },
     "execution_count": 34,
     "metadata": {},
     "output_type": "execute_result"
    }
   ],
   "source": [
    "#'values attribute' returns the underlying array\n",
    "\n",
    "grades.values"
   ]
  },
  {
   "cell_type": "code",
   "execution_count": null,
   "id": "d1a3d66c-001a-4e16-8364-5a92652afa30",
   "metadata": {},
   "outputs": [],
   "source": [
    "# Can use SERIES whenever our values are one-dimensional arrays."
   ]
  },
  {
   "cell_type": "code",
   "execution_count": null,
   "id": "1016d875-4c31-46cc-8286-a93f6bb3a19f",
   "metadata": {},
   "outputs": [],
   "source": []
  },
  {
   "cell_type": "code",
   "execution_count": 35,
   "id": "7c733f25-0737-4cca-8a4b-c3c829e7f373",
   "metadata": {},
   "outputs": [
    {
     "data": {
      "text/plain": [
       "0    Hammer\n",
       "1       Saw\n",
       "2    Wrench\n",
       "dtype: object"
      ]
     },
     "execution_count": 35,
     "metadata": {},
     "output_type": "execute_result"
    }
   ],
   "source": [
    "#Creating a Series of Strings - usde 'str attribute' to call string methods on the elements\n",
    "\n",
    "#first create a SERIES of hardware-related strings:\n",
    "\n",
    "hardware = pd.Series(['Hammer', 'Saw', 'Wrench'])\n",
    "\n",
    "hardware"
   ]
  },
  {
   "cell_type": "code",
   "execution_count": 36,
   "id": "8351f089-606e-4315-9b77-2b679b6af6d1",
   "metadata": {},
   "outputs": [],
   "source": [
    "# Pandas also right-align string element values and the dtype for strings is 'object'."
   ]
  },
  {
   "cell_type": "code",
   "execution_count": 37,
   "id": "432d7b0e-c4a2-4130-86bc-ff2542e14916",
   "metadata": {},
   "outputs": [
    {
     "data": {
      "text/plain": [
       "0     True\n",
       "1     True\n",
       "2    False\n",
       "dtype: bool"
      ]
     },
     "execution_count": 37,
     "metadata": {},
     "output_type": "execute_result"
    }
   ],
   "source": [
    "#call string method 'contains' on each element to determine whether the value of each element contains a lowercase 'a':\n",
    "\n",
    "hardware.str.contains('a')"
   ]
  },
  {
   "cell_type": "code",
   "execution_count": 38,
   "id": "274077c7-9590-4621-86f9-f919e8a716d1",
   "metadata": {},
   "outputs": [],
   "source": [
    "#String method 'upper' to produce a new Series containing the uppercase versions of each element"
   ]
  },
  {
   "cell_type": "code",
   "execution_count": 39,
   "id": "5b6b7287-309e-4dd1-91a5-6aec5f82e276",
   "metadata": {},
   "outputs": [
    {
     "data": {
      "text/plain": [
       "0    HAMMER\n",
       "1       SAW\n",
       "2    WRENCH\n",
       "dtype: object"
      ]
     },
     "execution_count": 39,
     "metadata": {},
     "output_type": "execute_result"
    }
   ],
   "source": [
    "hardware.str.upper()"
   ]
  },
  {
   "cell_type": "code",
   "execution_count": null,
   "id": "0dbe4ab2-b287-4ed2-bfc5-1defad698898",
   "metadata": {},
   "outputs": [],
   "source": []
  },
  {
   "cell_type": "markdown",
   "id": "d9581e91-1d50-4888-a25e-27536350b62e",
   "metadata": {},
   "source": [
    "# Self Check, p. 266, 7.14.1"
   ]
  },
  {
   "cell_type": "code",
   "execution_count": 40,
   "id": "4dbf2891-7f64-4734-b18a-c866fe0d947c",
   "metadata": {},
   "outputs": [],
   "source": [
    "import numpy as np"
   ]
  },
  {
   "cell_type": "code",
   "execution_count": 41,
   "id": "55602646-32f5-4289-9332-098978e32e35",
   "metadata": {},
   "outputs": [],
   "source": [
    "import pandas as pd"
   ]
  },
  {
   "cell_type": "code",
   "execution_count": 42,
   "id": "35de3da7-8bed-453a-92c1-efdc8578f3cd",
   "metadata": {},
   "outputs": [],
   "source": [
    "temps = np.random.randint(60, 101, 6)"
   ]
  },
  {
   "cell_type": "code",
   "execution_count": 43,
   "id": "d8365b38-b106-456a-99fd-220a01c82bbf",
   "metadata": {},
   "outputs": [],
   "source": [
    "temperatures = pd.Series(temps)"
   ]
  },
  {
   "cell_type": "code",
   "execution_count": 44,
   "id": "040764f3-0b9a-49c5-87e0-38cf04830840",
   "metadata": {},
   "outputs": [
    {
     "data": {
      "text/plain": [
       "0    76\n",
       "1    97\n",
       "2    66\n",
       "3    91\n",
       "4    70\n",
       "5    91\n",
       "dtype: int32"
      ]
     },
     "execution_count": 44,
     "metadata": {},
     "output_type": "execute_result"
    }
   ],
   "source": [
    "temperatures"
   ]
  },
  {
   "cell_type": "code",
   "execution_count": 45,
   "id": "6a017880-bf2d-441d-b052-367c9ba466b6",
   "metadata": {},
   "outputs": [
    {
     "data": {
      "text/plain": [
       "66"
      ]
     },
     "execution_count": 45,
     "metadata": {},
     "output_type": "execute_result"
    }
   ],
   "source": [
    "temperatures.min()"
   ]
  },
  {
   "cell_type": "code",
   "execution_count": 46,
   "id": "a8cfdafa-ef73-4409-bd7f-04d01d79bc87",
   "metadata": {},
   "outputs": [
    {
     "data": {
      "text/plain": [
       "97"
      ]
     },
     "execution_count": 46,
     "metadata": {},
     "output_type": "execute_result"
    }
   ],
   "source": [
    "temperatures.max()"
   ]
  },
  {
   "cell_type": "code",
   "execution_count": 47,
   "id": "feb8b193-e336-4806-acfb-deec43577ca6",
   "metadata": {},
   "outputs": [
    {
     "data": {
      "text/plain": [
       "81.83333333333333"
      ]
     },
     "execution_count": 47,
     "metadata": {},
     "output_type": "execute_result"
    }
   ],
   "source": [
    "temperatures.mean()"
   ]
  },
  {
   "cell_type": "code",
   "execution_count": 48,
   "id": "3e5bbd29-a93b-4202-b406-463479c9db1e",
   "metadata": {},
   "outputs": [
    {
     "data": {
      "text/plain": [
       "count     6.000000\n",
       "mean     81.833333\n",
       "std      12.828354\n",
       "min      66.000000\n",
       "25%      71.500000\n",
       "50%      83.500000\n",
       "75%      91.000000\n",
       "max      97.000000\n",
       "dtype: float64"
      ]
     },
     "execution_count": 48,
     "metadata": {},
     "output_type": "execute_result"
    }
   ],
   "source": [
    "temperatures.describe()"
   ]
  },
  {
   "cell_type": "markdown",
   "id": "de88c318-0432-4f6e-9b52-5ab3e0c8ed83",
   "metadata": {},
   "source": [
    "# Dasha Davis"
   ]
  },
  {
   "cell_type": "code",
   "execution_count": null,
   "id": "2b1df7b4-57dd-43e6-860e-5084dd715057",
   "metadata": {},
   "outputs": [],
   "source": []
  }
 ],
 "metadata": {
  "kernelspec": {
   "display_name": "Python 3 (ipykernel)",
   "language": "python",
   "name": "python3"
  },
  "language_info": {
   "codemirror_mode": {
    "name": "ipython",
    "version": 3
   },
   "file_extension": ".py",
   "mimetype": "text/x-python",
   "name": "python",
   "nbconvert_exporter": "python",
   "pygments_lexer": "ipython3",
   "version": "3.9.12"
  }
 },
 "nbformat": 4,
 "nbformat_minor": 5
}
